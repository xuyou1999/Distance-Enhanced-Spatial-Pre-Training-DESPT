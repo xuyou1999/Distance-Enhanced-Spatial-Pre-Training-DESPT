{
 "cells": [
  {
   "cell_type": "code",
   "execution_count": 1,
   "metadata": {},
   "outputs": [
    {
     "name": "stdout",
     "output_type": "stream",
     "text": [
      "P.dataname == METRLA\n",
      "data.shape: (34272, 207)\n",
      "METRLA_240325-2122 data splits\n",
      "trainXS.shape (27394, 1, 207, 12)\n",
      "trainYS.shape (27394, 12, 207, 1)\n",
      "testXS.shape (6844, 1, 207, 12)\n",
      "testYS.shape (6844, 12, 207, 1)\n",
      "spatialSplit_unseen all: trn/val/tst : 207 : 144 / 21 / 42\n",
      "spatialSplit_allNod all: trn/val/tst : 207 : 144 / 165 / 207\n",
      "train.shape torch.Size([23969, 1, 144, 12]) torch.Size([23969, 12, 144, 1])\n",
      "val_u.shape torch.Size([3425, 1, 21, 12]) torch.Size([3425, 12, 21, 1])\n",
      "val_a.shape torch.Size([3425, 1, 165, 12]) torch.Size([3425, 12, 165, 1])\n",
      "tst_u.shape torch.Size([6844, 1, 42, 12]) torch.Size([6844, 12, 42, 1])\n",
      "tst_a.shape torch.Size([6844, 1, 207, 12]) torch.Size([6844, 12, 207, 1])\n",
      "adj_train length of 2 torch.Size([144, 144])\n",
      "adj_val_u length of 2 torch.Size([21, 21])\n",
      "adj_val_a length of 2 torch.Size([165, 165])\n",
      "adj_tst_u length of 2 torch.Size([42, 42])\n",
      "adj_tst_a length of 2 torch.Size([207, 207])\n",
      "pretrn_iter.dataset.tensors[0].shape torch.Size([144, 23969])\n",
      "preval_iter.dataset.tensors[0].shape torch.Size([165, 27394])\n",
      "pretrainModel Started ...\n",
      "epoch 0 time used: 2  seconds  train loss: tensor(0.0359, device='mps:0', grad_fn=<DivBackward0>) validation loss: tensor(0.0225, device='mps:0')\n",
      "epoch 1 time used: 2  seconds  train loss: tensor(0.0348, device='mps:0', grad_fn=<DivBackward0>) validation loss: tensor(0.0224, device='mps:0')\n",
      "PRETIME DURATION: 0:00:05.067215\n",
      "pretrainModel Ended ...\n",
      "\n",
      "trainModel Started ...\n",
      "TIMESTEP_IN, TIMESTEP_OUT 12 12\n"
     ]
    },
    {
     "name": "stderr",
     "output_type": "stream",
     "text": [
      "/Users/xuyou/opt/anaconda3/envs/pytorch/lib/python3.11/site-packages/torch/nn/modules/rnn.py:83: UserWarning: dropout option adds dropout after all but last recurrent layer, so non-zero dropout expects num_layers greater than 1, but got dropout=0.2 and num_layers=1\n",
      "  warnings.warn(\"dropout option adds dropout after all but last \"\n"
     ]
    },
    {
     "name": "stdout",
     "output_type": "stream",
     "text": [
      "ENCODER INFER DURATION IN MODEL TRAINING: 0:00:00.543330\n",
      "train_embed torch.Size([32, 144]) tensor(-0.0152, device='mps:0') tensor(0.1147, device='mps:0')\n",
      "val_u_embed torch.Size([32, 21]) tensor(-0.0111, device='mps:0') tensor(0.0885, device='mps:0')\n",
      "val_a_embed torch.Size([32, 165]) tensor(-0.0162, device='mps:0') tensor(0.1199, device='mps:0')\n",
      "epoch 0 time used: 65  seconds  train loss: 0.24671693363818445 validation unseen nodes loss: 0.23467364187658268 validation all nodes loss: 0.23482834140314673\n",
      "MODEL TRAINING DURATION: 0:01:05.427144\n",
      "trainModel Ended ...\n",
      "\n",
      "Model Testing test_a Started ...\n",
      "Model Infer Start ...\n"
     ]
    },
    {
     "name": "stderr",
     "output_type": "stream",
     "text": [
      "/Users/xuyou/opt/anaconda3/envs/pytorch/lib/python3.11/site-packages/torch/nn/modules/rnn.py:83: UserWarning: dropout option adds dropout after all but last recurrent layer, so non-zero dropout expects num_layers greater than 1, but got dropout=0.2 and num_layers=1\n",
      "  warnings.warn(\"dropout option adds dropout after all but last \"\n"
     ]
    },
    {
     "name": "stdout",
     "output_type": "stream",
     "text": [
      "ENCODER INFER DURATION: 0:00:00.818136\n",
      "Model Infer End ... 2024-03-25 21:23:46.067800\n",
      "MODEL INFER DURATION: 0:00:06.205138\n",
      "YS.shape, YS_pred.shape, (6844, 12, 42, 1) (6844, 12, 42, 1)\n",
      "****************************************\n",
      "LSTM, test_a, Torch MSE, 2.6993602307e-01, 0.2699360231\n",
      "all pred steps, LSTM, test_a, MSE, RMSE, MAE, MAPE, 119.3571624756, 10.9250707626, 5.0247111320, 12.9126697779\n",
      "1 step, LSTM, test_a, MSE, RMSE, MAE, MAPE, 32.7971153259, 5.7268767357, 2.9034156799, 6.9070853293\n",
      "2 step, LSTM, test_a, MSE, RMSE, MAE, MAPE, 53.1499366760, 7.2904005051, 3.4578146935, 8.4192566574\n",
      "3 step, LSTM, test_a, MSE, RMSE, MAE, MAPE, 70.4850463867, 8.3955373764, 3.8792221546, 9.6013963223\n",
      "4 step, LSTM, test_a, MSE, RMSE, MAE, MAPE, 86.3653564453, 9.2932958603, 4.2560539246, 10.7291869819\n",
      "5 step, LSTM, test_a, MSE, RMSE, MAE, MAPE, 102.9706497192, 10.1474456787, 4.6440734863, 11.7251150310\n",
      "6 step, LSTM, test_a, MSE, RMSE, MAE, MAPE, 117.5862655640, 10.8437204361, 4.9899106026, 12.7282470465\n",
      "7 step, LSTM, test_a, MSE, RMSE, MAE, MAPE, 130.0355072021, 11.4033107758, 5.3021588326, 13.7022435665\n",
      "8 step, LSTM, test_a, MSE, RMSE, MAE, MAPE, 143.4106140137, 11.9754171371, 5.6128363609, 14.5856529474\n",
      "9 step, LSTM, test_a, MSE, RMSE, MAE, MAPE, 159.5353240967, 12.6307296753, 5.9437117577, 15.4018864036\n",
      "10 step, LSTM, test_a, MSE, RMSE, MAE, MAPE, 164.9066162109, 12.8415975571, 6.1528577805, 16.2603959441\n",
      "11 step, LSTM, test_a, MSE, RMSE, MAE, MAPE, 180.5557556152, 13.4371032715, 6.4547357559, 17.0431971550\n",
      "12 step, LSTM, test_a, MSE, RMSE, MAE, MAPE, 190.4878082275, 13.8017320633, 6.6997404099, 17.8483307362\n",
      "Model Testing Ended ... Mon Mar 25 21:23:52 2024\n"
     ]
    }
   ],
   "source": [
    "for i in range(1):\n",
    "    P = type('Parameters', (object,), {})()\n",
    "    P.dataname = 'METRLA'\n",
    "    P.model = 'LSTM'\n",
    "    P.seed = 0\n",
    "\n",
    "    P.t_train = 0.7\n",
    "    P.t_val = 0.1\n",
    "    P.s_train = 0.7\n",
    "    P.s_val = 0.1\n",
    "\n",
    "    P.timestep_in = 12\n",
    "    P.timestep_out = 12\n",
    "    P.n_channel = 1\n",
    "    P.batch_size = 64\n",
    "\n",
    "    P.gwnet_hidden_dim = 128\n",
    "    P.gwnet_is_adp_adj = True\n",
    "    P.gwnet_is_SGA = False\n",
    "\n",
    "    P.adj_type = 'doubletransition'\n",
    "    P.cl_temperature = 1\n",
    "    P.is_pretrain = True\n",
    "    P.is_GCN = True\n",
    "    P.augmentation = 'sampler'\n",
    "\n",
    "    P.learn_rate = 0.001\n",
    "    P.pretrain_epoch = 2\n",
    "    P.train_epoch = 1\n",
    "    P.weight_decay = 0\n",
    "    P.is_testunseen = True\n",
    "    %run -i 'experiment.py'"
   ]
  }
 ],
 "metadata": {
  "kernelspec": {
   "display_name": "pytorch",
   "language": "python",
   "name": "python3"
  },
  "language_info": {
   "codemirror_mode": {
    "name": "ipython",
    "version": 3
   },
   "file_extension": ".py",
   "mimetype": "text/x-python",
   "name": "python",
   "nbconvert_exporter": "python",
   "pygments_lexer": "ipython3",
   "version": "3.11.7"
  }
 },
 "nbformat": 4,
 "nbformat_minor": 2
}
