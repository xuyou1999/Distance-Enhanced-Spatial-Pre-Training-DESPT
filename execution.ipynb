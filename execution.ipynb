{
 "cells": [
  {
   "cell_type": "code",
   "execution_count": 1,
   "metadata": {},
   "outputs": [
    {
     "name": "stdout",
     "output_type": "stream",
     "text": [
      "P.dataname == HAGUE\n",
      "data.shape: (209027, 144)\n",
      "HAGUE_240325-2141 data splits\n",
      "trainXS.shape (167198, 1, 144, 12)\n",
      "trainYS.shape (167198, 12, 144, 1)\n",
      "testXS.shape (41795, 1, 144, 12)\n",
      "testYS.shape (41795, 12, 144, 1)\n",
      "spatialSplit_unseen all: trn/val/tst : 144 : 100 / 15 / 29\n",
      "spatialSplit_allNod all: trn/val/tst : 144 : 100 / 115 / 144\n",
      "train.shape torch.Size([146298, 1, 100, 12]) torch.Size([146298, 12, 100, 1])\n",
      "val_u.shape torch.Size([20900, 1, 15, 12]) torch.Size([20900, 12, 15, 1])\n",
      "val_a.shape torch.Size([20900, 1, 115, 12]) torch.Size([20900, 12, 115, 1])\n",
      "tst_u.shape torch.Size([41795, 1, 29, 12]) torch.Size([41795, 12, 29, 1])\n",
      "tst_a.shape torch.Size([41795, 1, 144, 12]) torch.Size([41795, 12, 144, 1])\n",
      "Loading Hague data\n",
      "adj_train length of 2 torch.Size([100, 100])\n",
      "adj_val_u length of 2 torch.Size([15, 15])\n",
      "adj_val_a length of 2 torch.Size([115, 115])\n",
      "adj_tst_u length of 2 torch.Size([29, 29])\n",
      "adj_tst_a length of 2 torch.Size([144, 144])\n"
     ]
    },
    {
     "name": "stderr",
     "output_type": "stream",
     "text": [
      "/Users/xuyou/Desktop/master_graduation_project/utils.py:36: RuntimeWarning: divide by zero encountered in power\n",
      "  d_inv = np.power(rowsum, -1).flatten()\n"
     ]
    },
    {
     "name": "stdout",
     "output_type": "stream",
     "text": [
      "pretrn_iter.dataset.tensors[0].shape torch.Size([100, 146298])\n",
      "preval_iter.dataset.tensors[0].shape torch.Size([115, 167198])\n",
      "pretrainModel Started ...\n",
      "epoch 0 time used: 10  seconds  train loss: tensor(0.0458, device='mps:0', grad_fn=<DivBackward0>) validation loss: tensor(0.0291, device='mps:0')\n",
      "epoch 1 time used: 11  seconds  train loss: tensor(0.0529, device='mps:0', grad_fn=<DivBackward0>) validation loss: tensor(0.0291, device='mps:0')\n",
      "PRETIME DURATION: 0:00:22.807299\n",
      "pretrainModel Ended ...\n",
      "\n",
      "trainModel Started ...\n",
      "TIMESTEP_IN, TIMESTEP_OUT 12 12\n"
     ]
    },
    {
     "name": "stderr",
     "output_type": "stream",
     "text": [
      "/Users/xuyou/opt/anaconda3/envs/pytorch/lib/python3.11/site-packages/torch/nn/modules/rnn.py:83: UserWarning: dropout option adds dropout after all but last recurrent layer, so non-zero dropout expects num_layers greater than 1, but got dropout=0.2 and num_layers=1\n",
      "  warnings.warn(\"dropout option adds dropout after all but last \"\n"
     ]
    },
    {
     "name": "stdout",
     "output_type": "stream",
     "text": [
      "ENCODER INFER DURATION IN MODEL TRAINING: 0:00:05.267740\n",
      "train_embed torch.Size([32, 100]) tensor(0.0118, device='mps:0') tensor(0.0985, device='mps:0')\n",
      "val_u_embed torch.Size([32, 15]) tensor(0.0081, device='mps:0') tensor(0.0793, device='mps:0')\n",
      "val_a_embed torch.Size([32, 115]) tensor(0.0122, device='mps:0') tensor(0.1025, device='mps:0')\n",
      "epoch 0 time used: 269  seconds  train loss: 0.2512150874204565 validation unseen nodes loss: 0.2065122059001877 validation all nodes loss: 0.20632733740589834\n",
      "MODEL TRAINING DURATION: 0:04:29.821056\n",
      "trainModel Ended ...\n",
      "\n",
      "Model Testing test_a Started ...\n",
      "Model Infer Start ...\n"
     ]
    },
    {
     "name": "stderr",
     "output_type": "stream",
     "text": [
      "/Users/xuyou/opt/anaconda3/envs/pytorch/lib/python3.11/site-packages/torch/nn/modules/rnn.py:83: UserWarning: dropout option adds dropout after all but last recurrent layer, so non-zero dropout expects num_layers greater than 1, but got dropout=0.2 and num_layers=1\n",
      "  warnings.warn(\"dropout option adds dropout after all but last \"\n"
     ]
    },
    {
     "name": "stdout",
     "output_type": "stream",
     "text": [
      "ENCODER INFER DURATION: 0:00:03.028530\n",
      "Model Infer End ... 2024-03-25 22:02:28.615259\n",
      "MODEL INFER DURATION: 0:15:01.475394\n",
      "YS.shape, YS_pred.shape, (41795, 12, 29, 1) (41795, 12, 29, 1)\n",
      "****************************************\n",
      "LSTM, test_a, Torch MSE, 2.2938620127e-01, 0.2293862013\n",
      "all pred steps, LSTM, test_a, MSE, RMSE, MAE, MAPE, 30.0716686249, 5.4837641716, 3.0930187702, 39.5198613405\n",
      "1 step, LSTM, test_a, MSE, RMSE, MAE, MAPE, 22.9964694977, 4.7954635620, 2.6380937099, 34.3687623739\n",
      "2 step, LSTM, test_a, MSE, RMSE, MAE, MAPE, 23.8219966888, 4.8807783127, 2.7047061920, 35.8170002699\n",
      "3 step, LSTM, test_a, MSE, RMSE, MAE, MAPE, 24.9916877747, 4.9991688728, 2.7890403271, 37.1405452490\n",
      "4 step, LSTM, test_a, MSE, RMSE, MAE, MAPE, 26.2893123627, 5.1273102760, 2.8750376701, 38.0519151688\n",
      "5 step, LSTM, test_a, MSE, RMSE, MAE, MAPE, 27.5263671875, 5.2465577126, 2.9509496689, 38.5391026735\n",
      "6 step, LSTM, test_a, MSE, RMSE, MAE, MAPE, 28.9693050385, 5.3823142052, 3.0357789993, 39.0530169010\n",
      "7 step, LSTM, test_a, MSE, RMSE, MAE, MAPE, 30.3159770966, 5.5059947968, 3.1238946915, 40.7158941031\n",
      "8 step, LSTM, test_a, MSE, RMSE, MAE, MAPE, 31.8909778595, 5.6472096443, 3.2150764465, 40.0440484285\n",
      "9 step, LSTM, test_a, MSE, RMSE, MAE, MAPE, 33.4435768127, 5.7830419540, 3.3034510612, 40.8145040274\n",
      "10 step, LSTM, test_a, MSE, RMSE, MAE, MAPE, 35.0810089111, 5.9229221344, 3.3977191448, 41.2100821733\n",
      "11 step, LSTM, test_a, MSE, RMSE, MAE, MAPE, 36.7358055115, 6.0610070229, 3.4873685837, 44.0444231033\n",
      "12 step, LSTM, test_a, MSE, RMSE, MAE, MAPE, 38.7977294922, 6.2287821770, 3.5951116085, 44.4390714169\n",
      "Model Testing Ended ... Mon Mar 25 22:04:29 2024\n"
     ]
    }
   ],
   "source": [
    "for i in range(1):\n",
    "    P = type('Parameters', (object,), {})()\n",
    "    P.dataname = 'HAGUE'\n",
    "    P.model = 'LSTM'\n",
    "    P.seed = 0\n",
    "\n",
    "    P.t_train = 0.7\n",
    "    P.t_val = 0.1\n",
    "    P.s_train = 0.7\n",
    "    P.s_val = 0.1\n",
    "\n",
    "    P.timestep_in = 12\n",
    "    P.timestep_out = 12\n",
    "    P.n_channel = 1\n",
    "    P.batch_size = 64\n",
    "\n",
    "    P.gwnet_hidden_dim = 128\n",
    "    P.gwnet_is_adp_adj = True\n",
    "    P.gwnet_is_SGA = False\n",
    "\n",
    "    P.adj_type = 'doubletransition'\n",
    "    P.cl_temperature = 1\n",
    "    P.is_pretrain = True\n",
    "    P.is_GCN = True\n",
    "    P.augmentation = 'sampler'\n",
    "\n",
    "    P.learn_rate = 0.001\n",
    "    P.pretrain_epoch = 2\n",
    "    P.train_epoch = 1\n",
    "    P.weight_decay = 0\n",
    "    P.is_testunseen = True\n",
    "    %run -i 'experiment.py'"
   ]
  }
 ],
 "metadata": {
  "kernelspec": {
   "display_name": "pytorch",
   "language": "python",
   "name": "python3"
  },
  "language_info": {
   "codemirror_mode": {
    "name": "ipython",
    "version": 3
   },
   "file_extension": ".py",
   "mimetype": "text/x-python",
   "name": "python",
   "nbconvert_exporter": "python",
   "pygments_lexer": "ipython3",
   "version": "3.11.7"
  }
 },
 "nbformat": 4,
 "nbformat_minor": 2
}
