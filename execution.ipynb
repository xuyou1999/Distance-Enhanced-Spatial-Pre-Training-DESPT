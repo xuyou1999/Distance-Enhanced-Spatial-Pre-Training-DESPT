{
 "cells": [
  {
   "cell_type": "code",
   "execution_count": 1,
   "metadata": {},
   "outputs": [
    {
     "name": "stdout",
     "output_type": "stream",
     "text": [
      "P.dataname == METRLA\n",
      "data.shape: (34272, 207)\n",
      "METRLA_240327-1829 data splits\n",
      "trainXS.shape (27394, 1, 207, 12)\n",
      "trainYS.shape (27394, 12, 207, 1)\n",
      "testXS.shape (6844, 1, 207, 12)\n",
      "testYS.shape (6844, 12, 207, 1)\n",
      "spatialSplit_unseen all: trn/val/tst : 207 : 144 / 21 / 42\n",
      "spatialSplit_allNod all: trn/val/tst : 207 : 144 / 165 / 207\n",
      "train.shape torch.Size([13697, 1, 144, 12]) torch.Size([13697, 12, 144, 1])\n",
      "train_model.shape torch.Size([13697, 1, 144, 12]) torch.Size([13697, 12, 144, 1])\n",
      "val_u.shape torch.Size([13697, 1, 21, 12]) torch.Size([13697, 12, 21, 1])\n",
      "val_a.shape torch.Size([13697, 1, 165, 12]) torch.Size([13697, 12, 165, 1])\n",
      "tst_u.shape torch.Size([6844, 1, 42, 12]) torch.Size([6844, 12, 42, 1])\n",
      "tst_a.shape torch.Size([6844, 1, 207, 12]) torch.Size([6844, 12, 207, 1])\n",
      "adj_train length of 2 torch.Size([144, 144])\n",
      "adj_val_u length of 2 torch.Size([21, 21])\n",
      "adj_val_a length of 2 torch.Size([165, 165])\n",
      "adj_tst_u length of 2 torch.Size([42, 42])\n",
      "adj_tst_a length of 2 torch.Size([207, 207])\n",
      "pretrn_iter.dataset.tensors[0].shape torch.Size([144, 13697])\n",
      "preval_iter.dataset.tensors[0].shape torch.Size([165, 27394])\n",
      "pretrainModel Started ...\n",
      "epoch 0 time used: 15  seconds  train loss: tensor(0.0334, grad_fn=<DivBackward0>) validation loss: tensor(0.0225)\n",
      "PRETIME DURATION: 0:00:15.825100\n",
      "pretrainModel Ended ...\n",
      "\n",
      "trainModel Started ...\n",
      "TIMESTEP_IN, TIMESTEP_OUT 12 12\n"
     ]
    },
    {
     "name": "stderr",
     "output_type": "stream",
     "text": [
      "/Users/xuyou/opt/anaconda3/envs/pytorch/lib/python3.11/site-packages/torch/nn/modules/rnn.py:83: UserWarning: dropout option adds dropout after all but last recurrent layer, so non-zero dropout expects num_layers greater than 1, but got dropout=0.2 and num_layers=1\n",
      "  warnings.warn(\"dropout option adds dropout after all but last \"\n"
     ]
    },
    {
     "name": "stdout",
     "output_type": "stream",
     "text": [
      "ENCODER INFER DURATION IN MODEL TRAINING: 0:00:06.044605\n",
      "train_embed torch.Size([32, 144]) tensor(0.0004, device='mps:0') tensor(0.0647, device='mps:0')\n",
      "val_u_embed torch.Size([32, 21]) tensor(0.0015, device='mps:0') tensor(0.0574, device='mps:0')\n",
      "val_a_embed torch.Size([32, 165]) tensor(5.7408e-05, device='mps:0') tensor(0.0662, device='mps:0')\n",
      "epoch 0 time used: 51  seconds  train loss: 0.2604297256982352 validation unseen nodes loss: 0.23102748426541087 validation all nodes loss: 0.23104015919181686\n",
      "MODEL TRAINING DURATION: 0:00:52.029426\n",
      "trainModel Ended ...\n",
      "\n",
      "Model Testing test_a Started ...\n",
      "Model Infer Start ...\n"
     ]
    },
    {
     "name": "stderr",
     "output_type": "stream",
     "text": [
      "/Users/xuyou/opt/anaconda3/envs/pytorch/lib/python3.11/site-packages/torch/nn/modules/rnn.py:83: UserWarning: dropout option adds dropout after all but last recurrent layer, so non-zero dropout expects num_layers greater than 1, but got dropout=0.2 and num_layers=1\n",
      "  warnings.warn(\"dropout option adds dropout after all but last \"\n"
     ]
    },
    {
     "name": "stdout",
     "output_type": "stream",
     "text": [
      "ENCODER INFER DURATION: 0:00:06.433398\n",
      "Model Infer End ... 2024-03-27 18:31:12.230189\n",
      "MODEL INFER DURATION: 0:00:07.563407\n",
      "YS.shape, YS_pred.shape, (6844, 12, 42, 1) (6844, 12, 42, 1)\n",
      "****************************************\n",
      "LSTM, test_a, Torch MSE, 2.7289135530e-01, 0.2728913553\n",
      "all pred steps, LSTM, test_a, MSE, RMSE, MAE, MAPE, 121.1344070435, 11.0061073303, 5.1002640724, 13.1963178515\n",
      "1 step, LSTM, test_a, MSE, RMSE, MAE, MAPE, 34.1458778381, 5.8434472084, 2.9546611309, 7.0036351681\n",
      "2 step, LSTM, test_a, MSE, RMSE, MAE, MAPE, 53.5624542236, 7.3186373711, 3.4987430573, 8.5768133402\n",
      "3 step, LSTM, test_a, MSE, RMSE, MAE, MAPE, 71.7986297607, 8.4734067917, 3.9480340481, 9.8070994020\n",
      "4 step, LSTM, test_a, MSE, RMSE, MAE, MAPE, 88.6261520386, 9.4141464233, 4.3418245316, 10.9417490661\n",
      "5 step, LSTM, test_a, MSE, RMSE, MAE, MAPE, 103.8401489258, 10.1901988983, 4.7233004570, 12.0608009398\n",
      "6 step, LSTM, test_a, MSE, RMSE, MAE, MAPE, 119.5855560303, 10.9355182648, 5.0742325783, 13.0089879036\n",
      "7 step, LSTM, test_a, MSE, RMSE, MAE, MAPE, 131.6949005127, 11.4758396149, 5.3747963905, 13.9796346426\n",
      "8 step, LSTM, test_a, MSE, RMSE, MAE, MAPE, 144.6489257812, 12.0270080566, 5.6743869781, 14.8949891329\n",
      "9 step, LSTM, test_a, MSE, RMSE, MAE, MAPE, 159.1712951660, 12.6163110733, 5.9947891235, 15.7691895962\n",
      "10 step, LSTM, test_a, MSE, RMSE, MAE, MAPE, 171.3954315186, 13.0918073654, 6.2689490318, 16.5521398187\n",
      "11 step, LSTM, test_a, MSE, RMSE, MAE, MAPE, 182.4068450928, 13.5058078766, 6.5592637062, 17.4910053611\n",
      "12 step, LSTM, test_a, MSE, RMSE, MAE, MAPE, 192.7365875244, 13.8829603195, 6.7901988029, 18.2697400451\n",
      "Model Testing Ended ... Wed Mar 27 18:31:19 2024\n"
     ]
    }
   ],
   "source": [
    "for i in range(1):\n",
    "    P = type('Parameters', (object,), {})()\n",
    "    P.dataname = 'METRLA'\n",
    "    P.model = 'LSTM'\n",
    "    P.seed = 0\n",
    "\n",
    "    P.t_train = 0.4\n",
    "    P.t_val = 0.4\n",
    "    P.s_train = 0.7\n",
    "    P.s_val = 0.1\n",
    "\n",
    "    P.timestep_in = 12\n",
    "    P.timestep_out = 12\n",
    "    P.n_channel = 1\n",
    "    P.batch_size = 64\n",
    "\n",
    "    P.lstm_hidden_dim = 128\n",
    "    P.gwnet_is_adp_adj = True\n",
    "    P.gwnet_is_SGA = False\n",
    "\n",
    "    P.adj_type = 'doubletransition'\n",
    "    P.cl_temperature = 1\n",
    "    P.is_pretrain = True\n",
    "    P.is_GCN = True\n",
    "    # P.augmentation = 'sampler'\n",
    "    P.augmentation = 'temporal_shifting'\n",
    "    P.encoder_to_model_ratio = 1\n",
    "    P.is_concat_encoder_model = True\n",
    "\n",
    "    P.learn_rate = 0.001\n",
    "    P.pretrain_epoch = 1\n",
    "    P.train_epoch = 1\n",
    "    P.weight_decay = 0\n",
    "    P.is_testunseen = True\n",
    "    P.train_model_datasplit = 'B'\n",
    "    %run -i 'experiment.py'"
   ]
  }
 ],
 "metadata": {
  "kernelspec": {
   "display_name": "pytorch",
   "language": "python",
   "name": "python3"
  },
  "language_info": {
   "codemirror_mode": {
    "name": "ipython",
    "version": 3
   },
   "file_extension": ".py",
   "mimetype": "text/x-python",
   "name": "python",
   "nbconvert_exporter": "python",
   "pygments_lexer": "ipython3",
   "version": "3.11.7"
  }
 },
 "nbformat": 4,
 "nbformat_minor": 2
}
